{
 "cells": [
  {
   "cell_type": "code",
   "execution_count": 1,
   "metadata": {},
   "outputs": [],
   "source": [
    "#Data wrangling AAC data-set\n",
    "import pandas as pd\n",
    "import numpy as np\n",
    "import datetime\n",
    "from dateutil.relativedelta import relativedelta\n",
    "from datetime import date\n",
    "import matplotlib.pyplot as plt"
   ]
  },
  {
   "cell_type": "code",
   "execution_count": 2,
   "metadata": {},
   "outputs": [],
   "source": [
    "aac = pd.read_csv(\"../Documents/aac_intakes_outcomes.csv\", usecols=['outcome_datetime', 'intake_datetime', 'outcome_type', 'animal_type', 'breed', 'date_of_birth'])"
   ]
  },
  {
   "cell_type": "code",
   "execution_count": 3,
   "metadata": {},
   "outputs": [],
   "source": [
    "aac['outcome_datetime'] = pd.to_datetime(aac['outcome_datetime'])\n",
    "aac['intake_datetime'] = pd.to_datetime(aac['intake_datetime'])"
   ]
  },
  {
   "cell_type": "code",
   "execution_count": 4,
   "metadata": {},
   "outputs": [],
   "source": [
    "#created a columne to show length of stay at shelter\n",
    "aac['shelter_length'] = (aac['outcome_datetime'] - aac['intake_datetime'])"
   ]
  },
  {
   "cell_type": "code",
   "execution_count": 5,
   "metadata": {},
   "outputs": [],
   "source": [
    "#removed return to owner as this implies dog ran away and was sent to shelter as lost dog(null value)\n",
    "aac = aac[aac.outcome_type != 'Return to Owner']"
   ]
  },
  {
   "cell_type": "code",
   "execution_count": 8,
   "metadata": {},
   "outputs": [],
   "source": [
    "aac['shelter_length'] = aac['shelter_length'].astype('timedelta64[W]')"
   ]
  },
  {
   "cell_type": "code",
   "execution_count": 9,
   "metadata": {},
   "outputs": [],
   "source": [
    "aac['shelter_length'] = aac['shelter_length'] / np.timedelta64(1,'W')"
   ]
  },
  {
   "cell_type": "code",
   "execution_count": 10,
   "metadata": {},
   "outputs": [],
   "source": [
    "#rounded the shelther length column to weeks for comparison but may need to change to month - lowest is 0 and highest is 181"
   ]
  },
  {
   "cell_type": "code",
   "execution_count": 11,
   "metadata": {},
   "outputs": [],
   "source": [
    "aac['date_of_birth'] = pd.to_datetime(aac['date_of_birth'])\n",
    "aac['age_of_outcome'] = (aac['outcome_datetime'] - aac['date_of_birth'])"
   ]
  },
  {
   "cell_type": "code",
   "execution_count": 18,
   "metadata": {},
   "outputs": [],
   "source": [
    "#calculating the age of the animal at outcome so that this can be sorted on - calculating based on years\n",
    "aac['age_of_outcome'] = aac['age_of_outcome'].astype('timedelta64[Y]')"
   ]
  },
  {
   "cell_type": "code",
   "execution_count": 19,
   "metadata": {},
   "outputs": [],
   "source": [
    "aac['age_of_outcome'] = aac['age_of_outcome'] / np.timedelta64(1,'Y')"
   ]
  },
  {
   "cell_type": "code",
   "execution_count": 21,
   "metadata": {},
   "outputs": [],
   "source": [
    "aac = aac.sort_values(['age_of_outcome'])"
   ]
  },
  {
   "cell_type": "code",
   "execution_count": 22,
   "metadata": {},
   "outputs": [],
   "source": [
    "#removed ages that are -1 aprox 5 as most likely human error\n",
    "aac = aac[aac.age_of_outcome != -1.0]"
   ]
  },
  {
   "cell_type": "code",
   "execution_count": 23,
   "metadata": {},
   "outputs": [],
   "source": [
    "#since only 10 entries had Nan values, I decided to drop, especially since entries seemed inconsistent upon reviewing\n",
    "aac = aac.dropna(subset = ['outcome_type'])"
   ]
  },
  {
   "cell_type": "code",
   "execution_count": 24,
   "metadata": {
    "scrolled": true
   },
   "outputs": [],
   "source": [
    "#noticed that animal type contained Other and Bird, which was not useful to this problem. I excluded them so that data will only reflect Cats and dogs\n",
    "aac = aac[aac.animal_type != 'Other']\n",
    "aac = aac[aac.animal_type != 'Bird']"
   ]
  },
  {
   "cell_type": "code",
   "execution_count": 25,
   "metadata": {},
   "outputs": [],
   "source": [
    "bins = pd.IntervalIndex.from_tuples([(-1,1), (1.0, 2.0), (2, 3), (3, 5), (5,8), (8,11), (11,23)])\n",
    "aac['age_category'] = pd.cut(aac['age_of_outcome'], bins)"
   ]
  },
  {
   "cell_type": "code",
   "execution_count": 26,
   "metadata": {},
   "outputs": [],
   "source": [
    "bins = pd.IntervalIndex.from_tuples([(-1,1), (1.0, 2.0), (2, 3), (3, 5), (5,8), (8,11), (11,23)])\n",
    "aac['shelter_bin'] = pd.cut(aac['shelter_length'], bins)"
   ]
  },
  {
   "cell_type": "code",
   "execution_count": 27,
   "metadata": {},
   "outputs": [
    {
     "data": {
      "text/plain": [
       "<pandas.core.groupby.generic.SeriesGroupBy object at 0x0000020DEF59CC50>"
      ]
     },
     "execution_count": 27,
     "metadata": {},
     "output_type": "execute_result"
    }
   ],
   "source": [
    "#wanted to review outcome types adoption and euthanasia for ages as seemed relevant options for study\n",
    "aac2 = aac.set_index(['outcome_type']).loc[['Adoption', 'Euthanasia']]\n",
    "aac2.reset_index().groupby(['outcome_type','age_of_outcome'])['age_of_outcome']\n",
    "#wanted to see the spread of ages for adoptions and euthanasia - euthanasia very low compared to adoptions\n",
    "#can clearly see a trend with adoptions - the lower the age, the higher the chance of adoption, harder to see a trend with euthanasia "
   ]
  },
  {
   "cell_type": "code",
   "execution_count": 28,
   "metadata": {},
   "outputs": [
    {
     "data": {
      "text/plain": [
       "<matplotlib.axes._subplots.AxesSubplot at 0x20def59c898>"
      ]
     },
     "execution_count": 28,
     "metadata": {},
     "output_type": "execute_result"
    },
    {
     "data": {
      "image/png": "[encoded data removed]",
      "text/plain": [
       "<Figure size 432x288 with 1 Axes>"
      ]
     },
     "metadata": {
      "needs_background": "light"
     },
     "output_type": "display_data"
    }
   ],
   "source": [
    "aac2.reset_index().groupby(['outcome_type','age_category'])['outcome_type'].size().plot(kind='bar')\n",
    "#regrouped the ages into bins to show how adoption and euthanasia are the top outcomes"
   ]
  },
  {
   "cell_type": "code",
   "execution_count": 29,
   "metadata": {},
   "outputs": [
    {
     "data": {
      "text/plain": [
       "Text(0.5, 0, 'age of euthanized')"
      ]
     },
     "execution_count": 29,
     "metadata": {},
     "output_type": "execute_result"
    },
    {
     "data": {
      "image/png": "[encoded data removed]",
      "text/plain": [
       "<Figure size 432x288 with 1 Axes>"
      ]
     },
     "metadata": {
      "needs_background": "light"
     },
     "output_type": "display_data"
    }
   ],
   "source": [
    "aac3 = aac.set_index(['outcome_type']).loc['Euthanasia']\n",
    "aac3.reset_index().groupby(['outcome_type', 'age_category'])['age_category'].count().plot(kind='bar')\n",
    "plt.xlabel('age of euthanized')\n",
    "#use binning to split the age ranges into more manageable chunks"
   ]
  },
  {
   "cell_type": "code",
   "execution_count": 30,
   "metadata": {
    "scrolled": true
   },
   "outputs": [
    {
     "data": {
      "text/plain": [
       "<pandas.core.groupby.generic.SeriesGroupBy object at 0x0000020DF01361D0>"
      ]
     },
     "execution_count": 30,
     "metadata": {},
     "output_type": "execute_result"
    }
   ],
   "source": [
    "#isolated just the euthanasias to see the distribution of ages\n",
    "aac3 = aac.set_index(['outcome_type']).loc['Euthanasia']\n",
    "aac3.reset_index().groupby(['outcome_type','age_of_outcome'])['age_of_outcome']\n",
    "#we can see by just reviewing the euthanasia graph that the highest animals euthanized were 0-5 years, which is not what I expected\n",
    "#perhaps this is due to illness - would be interesting to compare teo shelter length"
   ]
  },
  {
   "cell_type": "code",
   "execution_count": 31,
   "metadata": {},
   "outputs": [],
   "source": [
    "#wanted to do the same comparison for adoptions - can see that interestingly the cat below 1 accounts for 7500 adoptions\n",
    "#perhaps the ones euthanized are due to illness as around 6%. You can see that Labrador leads for dogs as does chihuaha\n",
    "#can clearly see cats take up a lare portion of adoptions\n",
    "aac4 = aac.set_index(['outcome_type']).loc['Adoption']"
   ]
  },
  {
   "cell_type": "code",
   "execution_count": 32,
   "metadata": {},
   "outputs": [],
   "source": [
    "#after realizing that the cat breeds are throwing off the data, I am\n",
    "#going to remove cats and review breeds of dogs solely\n",
    "aac5 = aac3.set_index(['animal_type']).loc['Dog']\n",
    "#this data now shows top dog breeds euhanized by age and breed\n",
    "#we see pit bull leads the charts"
   ]
  },
  {
   "cell_type": "code",
   "execution_count": 33,
   "metadata": {},
   "outputs": [
    {
     "data": {
      "text/plain": [
       "Text(0.5, 0, 'Top Dog Euthanasia')"
      ]
     },
     "execution_count": 33,
     "metadata": {},
     "output_type": "execute_result"
    },
    {
     "data": {
      "image/png": "[encoded data removed]",
      "text/plain": [
       "<Figure size 432x288 with 1 Axes>"
      ]
     },
     "metadata": {
      "needs_background": "light"
     },
     "output_type": "display_data"
    }
   ],
   "source": [
    "aac5.reset_index().groupby(['breed', 'age_of_outcome']).count().sort_values(['date_of_birth']).tail(10).plot(kind='bar')\n",
    "plt.xlabel('Top Dog Euthanasia')"
   ]
  },
  {
   "cell_type": "code",
   "execution_count": 34,
   "metadata": {},
   "outputs": [],
   "source": [
    "#now lets compare the adoptions to see which breeds lead that category\n",
    "aac6 = aac4.set_index(['animal_type']).loc['Dog']"
   ]
  },
  {
   "cell_type": "code",
   "execution_count": 35,
   "metadata": {},
   "outputs": [
    {
     "data": {
      "text/plain": [
       "Text(0.5, 0, 'Top Dog Adoptions')"
      ]
     },
     "execution_count": 35,
     "metadata": {},
     "output_type": "execute_result"
    },
    {
     "data": {
      "image/png": "[encoded data removed]",
      "text/plain": [
       "<Figure size 432x288 with 1 Axes>"
      ]
     },
     "metadata": {
      "needs_background": "light"
     },
     "output_type": "display_data"
    }
   ],
   "source": [
    "aac6.reset_index().groupby(['breed', 'age_of_outcome']).count().sort_values(['date_of_birth']).tail(10).plot(kind='bar')\n",
    "plt.xlabel('Top Dog Adoptions')"
   ]
  },
  {
   "cell_type": "code",
   "execution_count": 36,
   "metadata": {},
   "outputs": [
    {
     "name": "stdout",
     "output_type": "stream",
     "text": [
      "3.977211477011652\n"
     ]
    }
   ],
   "source": [
    "#calculating the covarian between shelter length and age of outcome\n",
    "#can't calculate breed as they are strings - need to be ints\n",
    "cov_matrix = np.cov(aac6['shelter_length'], aac6['age_of_outcome'])\n",
    "shelter_cov = cov_matrix[0,1]\n",
    "print(shelter_cov)"
   ]
  },
  {
   "cell_type": "code",
   "execution_count": 37,
   "metadata": {},
   "outputs": [],
   "source": [
    "#calculating the mean and SD of shelter length for adoptions\n",
    "shelter_mean = np.mean(aac6['shelter_length'])\n",
    "shelter_std = np.std(aac6['shelter_length'])"
   ]
  },
  {
   "cell_type": "code",
   "execution_count": 38,
   "metadata": {},
   "outputs": [],
   "source": [
    "#one thing we could test is the rate of adoptions against euthanizations\n",
    "#I could perform a sample of a binomial distribution and use the probablity \n",
    "#of getting adopted against the number of total animals\n",
    "total_adopt = len(aac6)\n",
    "total_euth = len(aac5)\n",
    "prob_adopt = len(aac6)/ (len(aac6) + len(aac5))"
   ]
  },
  {
   "cell_type": "code",
   "execution_count": 39,
   "metadata": {},
   "outputs": [
    {
     "name": "stdout",
     "output_type": "stream",
     "text": [
      "0.9319807988406847\n"
     ]
    }
   ],
   "source": [
    "print(prob_adopt)"
   ]
  },
  {
   "cell_type": "code",
   "execution_count": 111,
   "metadata": {},
   "outputs": [
    {
     "data": {
      "image/png": "[encoded data removed]",
      "text/plain": [
       "<Figure size 432x288 with 1 Axes>"
      ]
     },
     "metadata": {
      "needs_background": "light"
     },
     "output_type": "display_data"
    }
   ],
   "source": [
    "n_adopt = np.random.binomial(100, prob_adopt, size=10000)\n",
    "_ = plt.hist(n_adopt)"
   ]
  },
  {
   "cell_type": "code",
   "execution_count": 42,
   "metadata": {},
   "outputs": [],
   "source": [
    "#need to compute ECDF of above binomial distribution\n",
    "def ecdf(data):\n",
    "    n = len(data)\n",
    "    x = np.sort(data)\n",
    "    y = np.arange(1, n+1) / n\n",
    "    return x, y"
   ]
  },
  {
   "cell_type": "code",
   "execution_count": 43,
   "metadata": {},
   "outputs": [
    {
     "data": {
      "image/png": "[encoded data removed]",
      "text/plain": [
       "<Figure size 432x288 with 1 Axes>"
      ]
     },
     "metadata": {
      "needs_background": "light"
     },
     "output_type": "display_data"
    }
   ],
   "source": [
    "x, y = ecdf(n_adopt)\n",
    "_ = plt.plot(x, y, marker='.', linestyle='none')\n",
    "_ = plt.xlabel('Number of adoptions out of 100')\n",
    "_ = plt.ylabel('CDF')\n",
    "plt.show()"
   ]
  },
  {
   "cell_type": "code",
   "execution_count": 44,
   "metadata": {},
   "outputs": [],
   "source": [
    "bins = np.arange(60, max(n_adopt) + 1.5) - 0.5"
   ]
  },
  {
   "cell_type": "code",
   "execution_count": 45,
   "metadata": {},
   "outputs": [
    {
     "name": "stderr",
     "output_type": "stream",
     "text": [
      "C:\\Users\\lacey\\Anaconda3\\lib\\site-packages\\ipykernel_launcher.py:1: MatplotlibDeprecationWarning: \n",
      "The 'normed' kwarg was deprecated in Matplotlib 2.1 and will be removed in 3.1. Use 'density' instead.\n",
      "  \"\"\"Entry point for launching an IPython kernel.\n"
     ]
    },
    {
     "data": {
      "image/png": "[encoded data removed]",
      "text/plain": [
       "<Figure size 432x288 with 1 Axes>"
      ]
     },
     "metadata": {
      "needs_background": "light"
     },
     "output_type": "display_data"
    }
   ],
   "source": [
    "_ = plt.hist(n_adopt, normed=True, bins=bins)\n",
    "_ = plt.xlabel('Number of adoptions')\n",
    "_ = plt.ylabel('PMF')\n",
    "plt.show()"
   ]
  },
  {
   "cell_type": "code",
   "execution_count": 46,
   "metadata": {},
   "outputs": [
    {
     "name": "stdout",
     "output_type": "stream",
     "text": [
      "3.0074\n"
     ]
    }
   ],
   "source": [
    "#poisson distribution of shelter adoptions\n",
    "shelter_pois = np.random.poisson(shelter_mean, size=10000)\n",
    "pois_mean = np.mean(shelter_pois)\n",
    "print(pois_mean)\n",
    "#this implies that the mean shelter length is around 3 years"
   ]
  },
  {
   "cell_type": "code",
   "execution_count": 47,
   "metadata": {},
   "outputs": [
    {
     "name": "stdout",
     "output_type": "stream",
     "text": [
      "0.6482\n"
     ]
    }
   ],
   "source": [
    "pois_min = np.sum(shelter_pois <= 3)\n",
    "pois_perc = pois_min/ 10000\n",
    "print(pois_perc)\n",
    "#we see that 64 percent of animals are adopted betweeen 0-3 years from this distribution"
   ]
  },
  {
   "cell_type": "code",
   "execution_count": 48,
   "metadata": {},
   "outputs": [],
   "source": [
    "adopt_mean = np.mean(aac6['age_of_outcome'])"
   ]
  },
  {
   "cell_type": "code",
   "execution_count": 49,
   "metadata": {},
   "outputs": [
    {
     "name": "stdout",
     "output_type": "stream",
     "text": [
      "1.8484\n"
     ]
    }
   ],
   "source": [
    "#poisson distribution of age of adoptions\n",
    "adopt_pois = np.random.poisson(adopt_mean, size=10000)\n",
    "pois_adopt_mean = np.mean(adopt_pois)\n",
    "print(pois_adopt_mean)\n",
    "#this implies that the mean age of adoption is less than two"
   ]
  },
  {
   "cell_type": "code",
   "execution_count": 51,
   "metadata": {},
   "outputs": [],
   "source": [
    "# want to look at subsets of breeds next such as percentage of specific breed adopted vs euthanized\n",
    "#this will be helpful to identify significance with breeds\n",
    "aac_pit = aac.set_index(['outcome_type']).loc[['Adoption', 'Euthanasia']]"
   ]
  },
  {
   "cell_type": "code",
   "execution_count": 52,
   "metadata": {},
   "outputs": [],
   "source": [
    "#since pitbulls are the top adopted as well as euthanized breeds, I wanted to run a simulation on these stats to see what the distributions look liked\n",
    "aac_pit = aac_pit.reset_index().set_index(['breed']).loc['Pit Bull Mix']"
   ]
  },
  {
   "cell_type": "code",
   "execution_count": 109,
   "metadata": {},
   "outputs": [
    {
     "name": "stdout",
     "output_type": "stream",
     "text": [
      "0.8447837150127226\n"
     ]
    }
   ],
   "source": [
    "#I have a dataframe set-up of all euthanized and adopted pit bulls so that I can run some comparisons\n",
    "aac_pit.reset_index()\n",
    "total_pit_euth = len(aac_pit[aac_pit.outcome_type != 'Adoption'])\n",
    "total_pit = len(aac_pit)\n",
    "total_pit_adopt = len(aac_pit[aac_pit.outcome_type != 'Euthanasia'])\n",
    "#prob of pit getting adopted\n",
    "pit_prob = total_pit_adopt/ total_pit\n",
    "print(pit_prob)"
   ]
  },
  {
   "cell_type": "code",
   "execution_count": 56,
   "metadata": {},
   "outputs": [],
   "source": [
    "n_pit = np.random.binomial(100, pit_prob, size=10000)"
   ]
  },
  {
   "cell_type": "code",
   "execution_count": 57,
   "metadata": {},
   "outputs": [
    {
     "data": {
      "image/png": "[encoded data removed]",
      "text/plain": [
       "<Figure size 432x288 with 1 Axes>"
      ]
     },
     "metadata": {
      "needs_background": "light"
     },
     "output_type": "display_data"
    }
   ],
   "source": [
    "x, y = ecdf(n_pit)\n",
    "_ = plt.plot(x, y, marker='.', linestyle='none')\n",
    "_ = plt.xlabel('Number of Pit Bull Mix adoptions out of 100')\n",
    "_ = plt.ylabel('CDF')\n",
    "plt.show()"
   ]
  },
  {
   "cell_type": "code",
   "execution_count": 58,
   "metadata": {},
   "outputs": [],
   "source": [
    "pit_euth = aac_pit[aac_pit.outcome_type != 'Adoption']\n",
    "pit_euth_mean = np.mean(pit_euth['age_of_outcome'])"
   ]
  },
  {
   "cell_type": "code",
   "execution_count": 59,
   "metadata": {},
   "outputs": [
    {
     "name": "stdout",
     "output_type": "stream",
     "text": [
      "3.0447\n"
     ]
    }
   ],
   "source": [
    "pit_euth_pois = np.random.poisson(pit_euth_mean, size=10000)\n",
    "pois_pit_mean = np.mean(pit_euth_pois)\n",
    "print(pois_pit_mean)\n",
    "#this implies the mean age of euthanasia is about 3 which is surprising low"
   ]
  },
  {
   "cell_type": "code",
   "execution_count": 60,
   "metadata": {},
   "outputs": [
    {
     "name": "stdout",
     "output_type": "stream",
     "text": [
      "0.6369\n"
     ]
    }
   ],
   "source": [
    "pit_min = np.sum(pit_euth_pois <=3)\n",
    "pit_euth_perc = pit_min/10000\n",
    "print(pit_euth_perc)\n",
    "#this suggest that 64% of euthanized pit bulls are 3 and younger, which is really high"
   ]
  },
  {
   "cell_type": "code",
   "execution_count": 61,
   "metadata": {},
   "outputs": [],
   "source": [
    "#poisson of pits being adopted\n",
    "pit_adopt = aac_pit[aac_pit.outcome_type != 'Euthanasia']\n",
    "pit_adopt_mean = np.mean(pit_adopt['age_of_outcome'])"
   ]
  },
  {
   "cell_type": "code",
   "execution_count": 62,
   "metadata": {},
   "outputs": [
    {
     "name": "stdout",
     "output_type": "stream",
     "text": [
      "1.7191\n"
     ]
    }
   ],
   "source": [
    "pit_adopt_pois = np.random.poisson(pit_adopt_mean, size=10000)\n",
    "pois_adopt_mean = np.mean(pit_adopt_pois)\n",
    "print(pois_adopt_mean)\n",
    "#the mean age of adoption is 2 per the distribution"
   ]
  },
  {
   "cell_type": "code",
   "execution_count": 63,
   "metadata": {},
   "outputs": [
    {
     "name": "stdout",
     "output_type": "stream",
     "text": [
      "0.751\n"
     ]
    }
   ],
   "source": [
    "pit_min_adopt = np.sum(pit_adopt_pois <=2)\n",
    "pit_adopt_perc = pit_min_adopt/10000\n",
    "print(pit_adopt_perc)\n",
    "#distribution applies that 76% of adoptees are 2 and below"
   ]
  },
  {
   "cell_type": "code",
   "execution_count": 64,
   "metadata": {},
   "outputs": [],
   "source": [
    "#want to do poisson distribution for labs as they were the most adopted breed\n",
    "lab_adopted = aac6[aac6.breed == 'Labrador Retriever Mix']"
   ]
  },
  {
   "cell_type": "code",
   "execution_count": 65,
   "metadata": {},
   "outputs": [],
   "source": [
    "lab_mean = np.mean(lab_adopted['age_of_outcome'])"
   ]
  },
  {
   "cell_type": "code",
   "execution_count": 66,
   "metadata": {},
   "outputs": [
    {
     "name": "stdout",
     "output_type": "stream",
     "text": [
      "1.3703\n"
     ]
    }
   ],
   "source": [
    "lab_adopt_pois = np.random.poisson(lab_mean, size=10000)\n",
    "lab_adopt_mean = np.mean(lab_adopt_pois)\n",
    "print(lab_adopt_mean)\n",
    "#mean age of adoption for labs is 1.5 "
   ]
  },
  {
   "cell_type": "code",
   "execution_count": 67,
   "metadata": {},
   "outputs": [
    {
     "name": "stdout",
     "output_type": "stream",
     "text": [
      "0.8403\n"
     ]
    }
   ],
   "source": [
    "lab_min_adopt = np.sum(lab_adopt_pois <=2)\n",
    "lab_adopt_perc = lab_min_adopt/10000\n",
    "print(lab_adopt_perc)\n",
    "#this shows that 83% of labs are adopted 2 and below"
   ]
  },
  {
   "cell_type": "code",
   "execution_count": 68,
   "metadata": {},
   "outputs": [],
   "source": [
    "lab_adopted = len(aac6[aac6.breed == 'Labrador Retriever Mix'])\n",
    "total_adopt = len(aac6)"
   ]
  },
  {
   "cell_type": "code",
   "execution_count": 69,
   "metadata": {},
   "outputs": [
    {
     "name": "stdout",
     "output_type": "stream",
     "text": [
      "0.11506316812439261\n"
     ]
    }
   ],
   "source": [
    "#wanted to see total amount of dogs adopted that were labs and run distribution on them\n",
    "lab_prob = lab_adopted/ total_adopt\n",
    "print(lab_prob)"
   ]
  },
  {
   "cell_type": "code",
   "execution_count": 70,
   "metadata": {},
   "outputs": [],
   "source": [
    "n_lab = np.random.binomial(100, lab_prob, size=10000)"
   ]
  },
  {
   "cell_type": "code",
   "execution_count": 71,
   "metadata": {},
   "outputs": [
    {
     "data": {
      "image/png": "[encoded data removed]",
      "text/plain": [
       "<Figure size 432x288 with 1 Axes>"
      ]
     },
     "metadata": {
      "needs_background": "light"
     },
     "output_type": "display_data"
    }
   ],
   "source": [
    "x, y = ecdf(n_lab)\n",
    "_ = plt.plot(x, y, marker='.', linestyle='none')\n",
    "_ = plt.xlabel('Number of Lab Retriever adoptions out of 100')\n",
    "_ = plt.ylabel('CDF')\n",
    "plt.show()"
   ]
  },
  {
   "cell_type": "code",
   "execution_count": 72,
   "metadata": {},
   "outputs": [
    {
     "name": "stdout",
     "output_type": "stream",
     "text": [
      "4.872881355932203\n"
     ]
    }
   ],
   "source": [
    "lab_euth = aac5[aac5.breed == 'Labrador Retriever Mix']\n",
    "lab_euth_mean = np.mean(lab_euth['age_of_outcome'])\n",
    "print(lab_euth_mean)"
   ]
  },
  {
   "cell_type": "code",
   "execution_count": 73,
   "metadata": {},
   "outputs": [],
   "source": [
    "lab_euth = len(aac5[aac5.breed == 'Labrador Retriever Mix'])\n",
    "total_lab = lab_euth + lab_adopted"
   ]
  },
  {
   "cell_type": "code",
   "execution_count": 74,
   "metadata": {},
   "outputs": [
    {
     "name": "stdout",
     "output_type": "stream",
     "text": [
      "0.04746580852775543\n"
     ]
    }
   ],
   "source": [
    "lab_prob_euth = lab_euth/ total_lab\n",
    "print(lab_prob_euth)"
   ]
  },
  {
   "cell_type": "code",
   "execution_count": 75,
   "metadata": {},
   "outputs": [],
   "source": [
    "n_lab_euth = np.random.binomial(100, lab_prob_euth, size=10000)"
   ]
  },
  {
   "cell_type": "code",
   "execution_count": 76,
   "metadata": {},
   "outputs": [
    {
     "data": {
      "image/png": "[encoded data removed]",
      "text/plain": [
       "<Figure size 432x288 with 1 Axes>"
      ]
     },
     "metadata": {
      "needs_background": "light"
     },
     "output_type": "display_data"
    }
   ],
   "source": [
    "x, y = ecdf(n_lab_euth)\n",
    "_ = plt.plot(x, y, marker='.', linestyle='none')\n",
    "_ = plt.xlabel('Number of Lab Retriever euthanized out of 100')\n",
    "_ = plt.ylabel('CDF')\n",
    "plt.show()"
   ]
  },
  {
   "cell_type": "code",
   "execution_count": 77,
   "metadata": {},
   "outputs": [
    {
     "data": {
      "image/png": "[encoded data removed]",
      "text/plain": [
       "<Figure size 432x288 with 1 Axes>"
      ]
     },
     "metadata": {
      "needs_background": "light"
     },
     "output_type": "display_data"
    }
   ],
   "source": [
    "plt.scatter(aac5.shelter_length, aac5.age_of_outcome)\n",
    "plt.title('Euthanasia')\n",
    "plt.show()"
   ]
  },
  {
   "cell_type": "code",
   "execution_count": 78,
   "metadata": {},
   "outputs": [
    {
     "data": {
      "image/png": "[encoded data removed]",
      "text/plain": [
       "<Figure size 432x288 with 1 Axes>"
      ]
     },
     "metadata": {
      "needs_background": "light"
     },
     "output_type": "display_data"
    }
   ],
   "source": [
    "plt.scatter(aac6.shelter_length, aac6.age_of_outcome)\n",
    "plt.title('Adoptions')\n",
    "plt.xlabel('Shelter Length')\n",
    "plt.ylabel('Age')\n",
    "plt.show()"
   ]
  },
  {
   "cell_type": "code",
   "execution_count": 79,
   "metadata": {},
   "outputs": [],
   "source": [
    "#Machine learning section - where I wanted to start out was performing a linear regression on data to predict shelter length\n",
    "#based on age and breed of animal. from there I can tweak the features and tune the paramaters\n",
    "#target should be shelter length going to review dogs adopted first so aac6 is my dataset"
   ]
  },
  {
   "cell_type": "code",
   "execution_count": 80,
   "metadata": {},
   "outputs": [],
   "source": [
    "##target should be shelter length going to review dogs adopted first so aac6 is my dataset\n",
    "#lets review one feature for this prediction, which will be age\n",
    "#need to reshape data to model\n",
    "x = aac6.age_of_outcome\n",
    "x= x.values.reshape(-1,1)\n",
    "y = aac6.shelter_length\n",
    "y= y.values.reshape(-1 ,1)"
   ]
  },
  {
   "cell_type": "code",
   "execution_count": 108,
   "metadata": {},
   "outputs": [
    {
     "data": {
      "text/plain": [
       "0.034581055214414236"
      ]
     },
     "execution_count": 108,
     "metadata": {},
     "output_type": "execute_result"
    }
   ],
   "source": [
    "from sklearn.linear_model import LinearRegression\n",
    "reg = LinearRegression()\n",
    "reg.fit(x, aac6.shelter_length)\n",
    "reg.score(x, aac6.shelter_length)"
   ]
  },
  {
   "cell_type": "code",
   "execution_count": 83,
   "metadata": {},
   "outputs": [
    {
     "data": {
      "image/png": "[encoded data removed]",
      "text/plain": [
       "<Figure size 432x288 with 1 Axes>"
      ]
     },
     "metadata": {
      "needs_background": "light"
     },
     "output_type": "display_data"
    }
   ],
   "source": [
    "reg.predict(x)\n",
    "_ = plt.hist(reg.predict(x))\n",
    "_ = plt.title('Predicted Shelter Length')\n",
    "_ = plt.xlabel('Shelter Length')\n",
    "_ = plt.ylabel('Frequency')\n",
    "plt.show()"
   ]
  },
  {
   "cell_type": "code",
   "execution_count": 84,
   "metadata": {},
   "outputs": [
    {
     "data": {
      "text/plain": [
       "Text(0.5, 1.0, 'Original Vs Predicted Shelter Length')"
      ]
     },
     "execution_count": 84,
     "metadata": {},
     "output_type": "execute_result"
    },
    {
     "data": {
      "image/png": "[encoded data removed]",
      "text/plain": [
       "<Figure size 432x288 with 1 Axes>"
      ]
     },
     "metadata": {
      "needs_background": "light"
     },
     "output_type": "display_data"
    }
   ],
   "source": [
    "#want to compare the predicted shelter length verse the dataset\n",
    "plt.scatter(aac6.shelter_length, reg.predict(x))\n",
    "plt.xlabel(\"Original Shelter Length\")\n",
    "plt.ylabel(\"Predicted Shelter Length\")\n",
    "plt.title(\"Original Vs Predicted Shelter Length\")\n",
    "#based on the below scatter plot it doesn't seem like the model mirrored the dataset too well. Also, the spread of data for shelter \n",
    "#length may not be suited for this type of model. the model is predicting very low shelter lengths for the majority\n",
    "# such as 1 - 3 weeks. We can see in the data most of the adoptions are below 20 weeks but there is definitely more variety"
   ]
  },
  {
   "cell_type": "code",
   "execution_count": 85,
   "metadata": {},
   "outputs": [
    {
     "name": "stdout",
     "output_type": "stream",
     "text": [
      "                            OLS Regression Results                            \n",
      "==============================================================================\n",
      "Dep. Variable:         shelter_length   R-squared:                       0.045\n",
      "Model:                            OLS   Adj. R-squared:                  0.045\n",
      "Method:                 Least Squares   F-statistic:                     971.6\n",
      "Date:                Wed, 19 Feb 2020   Prob (F-statistic):          1.81e-208\n",
      "Time:                        21:35:37   Log-Likelihood:                -70697.\n",
      "No. Observations:               20580   AIC:                         1.414e+05\n",
      "Df Residuals:                   20578   BIC:                         1.414e+05\n",
      "Df Model:                           1                                         \n",
      "Covariance Type:            nonrobust                                         \n",
      "==================================================================================\n",
      "                     coef    std err          t      P>|t|      [0.025      0.975]\n",
      "----------------------------------------------------------------------------------\n",
      "Intercept          1.7772      0.066     27.087      0.000       1.649       1.906\n",
      "age_of_outcome     0.6697      0.021     31.171      0.000       0.628       0.712\n",
      "==============================================================================\n",
      "Omnibus:                    26984.613   Durbin-Watson:                   1.981\n",
      "Prob(Omnibus):                  0.000   Jarque-Bera (JB):          7992618.024\n",
      "Skew:                           7.267   Prob(JB):                         0.00\n",
      "Kurtosis:                      98.444   Cond. No.                         3.99\n",
      "==============================================================================\n",
      "\n",
      "Warnings:\n",
      "[1] Standard Errors assume that the covariance matrix of the errors is correctly specified.\n"
     ]
    }
   ],
   "source": [
    "#next steps are to do lasso/ ridge/ ols to see if this improves model\n",
    "import statsmodels.api as sm\n",
    "from statsmodels.formula.api import ols\n",
    "m = ols('shelter_length ~ age_of_outcome',aac6).fit()\n",
    "print(m.summary())\n",
    "#based on the summary below, we see that the age is somewhat of a statistically indicative predictor of shelter length. \n",
    "#p>t is 0.00. also the coef is .66 so that is saying that on average each additional year of age has an increase of .66 weeks\n"
   ]
  },
  {
   "cell_type": "code",
   "execution_count": 86,
   "metadata": {},
   "outputs": [
    {
     "data": {
      "text/plain": [
       "0.03704031617092718"
      ]
     },
     "execution_count": 86,
     "metadata": {},
     "output_type": "execute_result"
    }
   ],
   "source": [
    "#want to try a ridge regression to see if that improves the model\n",
    "from sklearn.linear_model import Ridge\n",
    "from sklearn.model_selection import train_test_split\n",
    "X_train, X_test, y_train, y_test = train_test_split(x, y, test_size = 0.3, random_state=42)\n",
    "ridge = Ridge(alpha=0.5, normalize=False)\n",
    "ridge.fit(X_train, y_train)\n",
    "ridge_pred = ridge.predict(X_test)\n",
    "ridge.score(X_test, y_test)\n",
    "#ran ridge regression but comes back pretty similar to linear regression. going to try standard scaler and build a pipeline to see if this improves"
   ]
  },
  {
   "cell_type": "code",
   "execution_count": 87,
   "metadata": {},
   "outputs": [
    {
     "name": "stdout",
     "output_type": "stream",
     "text": [
      "0.037040524243617146\n"
     ]
    }
   ],
   "source": [
    "from sklearn.preprocessing import StandardScaler\n",
    "from sklearn.preprocessing import scale\n",
    "from sklearn.pipeline import Pipeline\n",
    "from sklearn.metrics import accuracy_score\n",
    "from sklearn.metrics import r2_score\n",
    "steps = [('scaler', StandardScaler()), ('ridge', Ridge())]\n",
    "pipeline = Pipeline(steps)\n",
    "X_train, X_test, y_train, y_test = train_test_split(x, y, test_size = 0.3, random_state=42)\n",
    "ridge_scaled = pipeline.fit(X_train, y_train)\n",
    "y_pred = pipeline.predict(X_test)\n",
    "print(r2_score(y_test, y_pred))  \n",
    "#seems like even with scaling the data this did not improve the model by much as the r2 score is pretty low"
   ]
  },
  {
   "cell_type": "code",
   "execution_count": 89,
   "metadata": {},
   "outputs": [
    {
     "name": "stderr",
     "output_type": "stream",
     "text": [
      "C:\\Users\\lacey\\Anaconda3\\lib\\site-packages\\ipykernel_launcher.py:9: DataConversionWarning: A column-vector y was passed when a 1d array was expected. Please change the shape of y to (n_samples,), for example using ravel().\n",
      "  if __name__ == '__main__':\n"
     ]
    }
   ],
   "source": [
    "from sklearn.ensemble import RandomForestRegressor\n",
    "from sklearn.datasets import make_regression\n",
    "x = aac6.age_of_outcome\n",
    "x= x.values.reshape(-1,1)\n",
    "y = aac6.shelter_length\n",
    "y= y.values.reshape(-1 ,1)\n",
    "X_train, X_test, y_train, y_test = train_test_split(x, y, test_size=0.2, random_state=0)\n",
    "regressor = RandomForestRegressor(n_estimators=20, random_state=0)\n",
    "regressor.fit(X_train, y_train)\n",
    "y_pred = regressor.predict(X_test)"
   ]
  },
  {
   "cell_type": "code",
   "execution_count": 90,
   "metadata": {},
   "outputs": [
    {
     "name": "stdout",
     "output_type": "stream",
     "text": [
      "0.04244828370317666\n"
     ]
    }
   ],
   "source": [
    "print(r2_score(y_test, y_pred))\n",
    "# ran a random forrest just on basic paramets and has improved the model but stil not great. "
   ]
  },
  {
   "cell_type": "code",
   "execution_count": 91,
   "metadata": {},
   "outputs": [
    {
     "data": {
      "text/plain": [
       "0.04005938525174568"
      ]
     },
     "execution_count": 91,
     "metadata": {},
     "output_type": "execute_result"
    }
   ],
   "source": [
    "#scaling\n",
    "from sklearn import preprocessing\n",
    "x = preprocessing.scale(x)\n",
    "X_train, X_test, y_train, y_test = train_test_split(x, y, random_state=42)\n",
    "scaler = preprocessing.StandardScaler().fit(X_train)\n",
    "X_train = scaler.transform(X_train)\n",
    "X_test = scaler.transform(X_test)\n",
    "LN = LinearRegression()\n",
    "LN.fit(X_train, y_train)\n",
    "y_pred = (LN.predict(X_test))\n",
    "r2_score(y_test, y_pred)\n",
    "#Not really seeing that these are improving the model "
   ]
  },
  {
   "cell_type": "code",
   "execution_count": 92,
   "metadata": {},
   "outputs": [],
   "source": [
    "#reading through articles on the r squared score, it seems like the age and shelter length data is fairly spread out\n",
    "# and it just may be that the data is inherently unpredictable because people and adoptions are unpredictable\n",
    "#not everyone is looking to get a puppy for a variety of reasons. you can see from the above graph that the line is going\n",
    "#through the data, but the actual data points have variability which we cannot account for. this is resulting in the model \n",
    "#not fitting the data as well as we would like to see. "
   ]
  },
  {
   "cell_type": "code",
   "execution_count": 93,
   "metadata": {},
   "outputs": [
    {
     "name": "stdout",
     "output_type": "stream",
     "text": [
      "0.03700403803747243\n"
     ]
    }
   ],
   "source": [
    "#seems like the ridge regression was the best model. Going to try to fine tune this as well as random forest\n",
    "y = aac6\n",
    "x = y.age_of_outcome\n",
    "z = y.shelter_length\n",
    "z = z.values.reshape(-1 ,1)\n",
    "x = x.values.reshape(-1 ,1)\n",
    "steps = [('scaler', StandardScaler()), ('ridge', Ridge(alpha =.1, normalize=True))]\n",
    "pipeline = Pipeline(steps)\n",
    "X_train, X_test, y_train, y_test = train_test_split(x, z, test_size = 0.3, random_state=42)\n",
    "ridge_scaled = pipeline.fit(X_train, y_train)\n",
    "y_pred = pipeline.predict(X_test)\n",
    "print(r2_score(y_test, y_pred))"
   ]
  },
  {
   "cell_type": "code",
   "execution_count": 94,
   "metadata": {},
   "outputs": [
    {
     "data": {
      "image/png": "[encoded data removed]",
      "text/plain": [
       "<Figure size 432x288 with 1 Axes>"
      ]
     },
     "metadata": {
      "needs_background": "light"
     },
     "output_type": "display_data"
    }
   ],
   "source": [
    "plt.scatter(X_test, y_test, color='b')\n",
    "plt.plot(X_test, y_pred, color='k')\n",
    "plt.title('Ridge Regression')\n",
    "plt.show()"
   ]
  },
  {
   "cell_type": "code",
   "execution_count": 95,
   "metadata": {},
   "outputs": [
    {
     "name": "stdout",
     "output_type": "stream",
     "text": [
      "0.034105922787845744\n"
     ]
    }
   ],
   "source": [
    "y = aac6\n",
    "x = y.age_of_outcome\n",
    "z = y.shelter_length\n",
    "z = z.values.reshape(-1 ,1)\n",
    "x = x.values.reshape(-1 ,1)\n",
    "\n",
    "X_train, X_test, y_train, y_test = train_test_split(x, z, test_size = 0.25)\n",
    "scaler = preprocessing.StandardScaler().fit(X_train) \n",
    "X_train = scaler.transform(X_train) \n",
    "X_test = scaler.transform(X_test)\n",
    "regr = LinearRegression(normalize=True) \n",
    "regr.fit(X_train, y_train)\n",
    "y_pred = regr.predict(X_test)\n",
    "print(regr.score(X_test, y_test))"
   ]
  },
  {
   "cell_type": "code",
   "execution_count": 96,
   "metadata": {},
   "outputs": [],
   "source": [
    "#going to try to add in breed to see if that makes an impact on the scoring of the linear regression\n",
    "#need to convert breeds into dummies\n",
    "df = aac6[['breed', 'age_of_outcome']]\n",
    "df = pd.get_dummies(df)\n",
    "z = aac6.shelter_length\n",
    "z = z.values.reshape(-1 ,1)\n",
    "x = df.values.reshape(-1 ,1378)\n",
    "#features are x and target is z"
   ]
  },
  {
   "cell_type": "code",
   "execution_count": 97,
   "metadata": {},
   "outputs": [
    {
     "name": "stdout",
     "output_type": "stream",
     "text": [
      "0.05627885288706613\n"
     ]
    }
   ],
   "source": [
    "#now that breed is incorporated let's do a linear regression\n",
    "X_train, X_test, y_train, y_test = train_test_split(x, z, test_size = 0.25)\n",
    "regr = LinearRegression() \n",
    "regr.fit(X_train, y_train)\n",
    "y_pred = regr.predict(X_test)\n",
    "print(regr.score(X_test, y_test))\n",
    "#getting a very large negative value for r squared which is odd. going to try another regression "
   ]
  },
  {
   "cell_type": "code",
   "execution_count": 98,
   "metadata": {},
   "outputs": [
    {
     "name": "stdout",
     "output_type": "stream",
     "text": [
      "-4.011695186485701e+28\n"
     ]
    }
   ],
   "source": [
    "#this was the model that yielded the highest result in my previous tests. I am still not getting a sensical r squared\n",
    "#I am going to try binning the ages to see if that has an impact\n",
    "X_train, X_test, y_train, y_test = train_test_split(x, z, test_size = 0.25)\n",
    "scaler = preprocessing.StandardScaler().fit(X_train) \n",
    "X_train = scaler.transform(X_train) \n",
    "X_test = scaler.transform(X_test)\n",
    "regr = LinearRegression(normalize=True) \n",
    "regr.fit(X_train, y_train)\n",
    "y_pred = regr.predict(X_test)\n",
    "print(regr.score(X_test, y_test))"
   ]
  },
  {
   "cell_type": "code",
   "execution_count": 99,
   "metadata": {},
   "outputs": [],
   "source": [
    "#going to try binning the age data into 0-1 year and beyond 1year to see if that changes the r square \n",
    "bins = pd.IntervalIndex.from_tuples([(-1,1), (1.0, 23.0)])\n",
    "aac6['age_summary'] = pd.cut(aac6['age_of_outcome'], bins)"
   ]
  },
  {
   "cell_type": "code",
   "execution_count": 100,
   "metadata": {},
   "outputs": [],
   "source": [
    "#seems like I need to convert the age category into dummies as not a numerical value so cant run regression on category\n",
    "df = aac6['age_summary'].reset_index()\n",
    "dt = pd.get_dummies(df)\n",
    "dt = dt.iloc[:, 1]"
   ]
  },
  {
   "cell_type": "code",
   "execution_count": 101,
   "metadata": {},
   "outputs": [
    {
     "name": "stdout",
     "output_type": "stream",
     "text": [
      "0.02937791920446864\n"
     ]
    }
   ],
   "source": [
    "#checking the regression now with the new age category\n",
    "y = aac6\n",
    "x = dt\n",
    "z = y.shelter_length\n",
    "z = z.values.reshape(-1 ,1)\n",
    "x = x.values.reshape(-1, 1)\n",
    "\n",
    "\n",
    "X_train, X_test, y_train, y_test = train_test_split(x, z, test_size = 0.25)\n",
    "regr = LinearRegression() \n",
    "regr.fit(X_train, y_train)\n",
    "y_pred = regr.predict(X_test)\n",
    "print(regr.score(X_test, y_test))"
   ]
  },
  {
   "cell_type": "code",
   "execution_count": 102,
   "metadata": {},
   "outputs": [
    {
     "data": {
      "image/png": "[encoded data removed]",
      "text/plain": [
       "<Figure size 432x288 with 1 Axes>"
      ]
     },
     "metadata": {
      "needs_background": "light"
     },
     "output_type": "display_data"
    }
   ],
   "source": [
    "plt.scatter(X_test, y_test, color='b')\n",
    "plt.plot(X_test, y_pred, color='k')\n",
    "plt.title('0-1 years')\n",
    "plt.xlabel('Age')\n",
    "plt.ylabel(\"Shelter length\")\n",
    "plt.show()\n",
    "#so after binning the ages into 0-1 and beyond, we can see this decreased the model. Also, in the graph below, you can see\n",
    "#that there are a lot more animals in the 0.00 category than 1. 0 means dog was adopted beyond 1 year"
   ]
  },
  {
   "cell_type": "code",
   "execution_count": 103,
   "metadata": {},
   "outputs": [],
   "source": [
    "#since model did not perform as predicted, I am going to bump up age binning to 0-2 years\n",
    "bins = pd.IntervalIndex.from_tuples([(-1, 2.0), (2.0, 23.0)])\n",
    "aac6['age_summary'] = pd.cut(aac6['age_of_outcome'], bins)"
   ]
  },
  {
   "cell_type": "code",
   "execution_count": 104,
   "metadata": {},
   "outputs": [],
   "source": [
    "df = aac6['age_summary'].reset_index()\n",
    "dt = pd.get_dummies(df)\n",
    "dt = dt.iloc[:, 1]"
   ]
  },
  {
   "cell_type": "code",
   "execution_count": 105,
   "metadata": {},
   "outputs": [
    {
     "name": "stdout",
     "output_type": "stream",
     "text": [
      "0.03729621990983378\n"
     ]
    }
   ],
   "source": [
    "y = aac6\n",
    "x = dt\n",
    "z = y.shelter_length\n",
    "z = z.values.reshape(-1 ,1)\n",
    "x = x.values.reshape(-1, 1)\n",
    "\n",
    "\n",
    "X_train, X_test, y_train, y_test = train_test_split(x, z, test_size = 0.25)\n",
    "regr = LinearRegression() \n",
    "regr.fit(X_train, y_train)\n",
    "y_pred = regr.predict(X_test)\n",
    "print(regr.score(X_test, y_test))\n",
    "#model has improved since binning 0-2 years going to try using the best model I found on it to see how tuning impacts"
   ]
  },
  {
   "cell_type": "code",
   "execution_count": 107,
   "metadata": {},
   "outputs": [
    {
     "name": "stdout",
     "output_type": "stream",
     "text": [
      "0.03533802466317415\n"
     ]
    }
   ],
   "source": [
    "X_train, X_test, y_train, y_test = train_test_split(x, z, test_size = 0.25)\n",
    "scaler = preprocessing.StandardScaler().fit(X_train) \n",
    "X_train = scaler.transform(X_train) \n",
    "X_test = scaler.transform(X_test)\n",
    "regr = LinearRegression(normalize=True) \n",
    "regr.fit(X_train, y_train)\n",
    "y_pred = regr.predict(X_test)\n",
    "print(regr.score(X_test, y_test))\n",
    "#with tuning you can see the model did improve, but still not as good as the previous feature set I was using. "
   ]
  },
  {
   "cell_type": "code",
   "execution_count": null,
   "metadata": {},
   "outputs": [],
   "source": []
  },
  {
   "cell_type": "code",
   "execution_count": null,
   "metadata": {},
   "outputs": [],
   "source": []
  },
  {
   "cell_type": "code",
   "execution_count": null,
   "metadata": {},
   "outputs": [],
   "source": []
  }
 ],
 "metadata": {
  "kernelspec": {
   "display_name": "Python 3",
   "language": "python",
   "name": "python3"
  },
  "language_info": {
   "codemirror_mode": {
    "name": "ipython",
    "version": 3
   },
   "file_extension": ".py",
   "mimetype": "text/x-python",
   "name": "python",
   "nbconvert_exporter": "python",
   "pygments_lexer": "ipython3",
   "version": "3.7.3"
  }
 },
 "nbformat": 4,
 "nbformat_minor": 2
}
